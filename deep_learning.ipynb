{
 "cells": [
  {
   "cell_type": "markdown",
   "id": "0b15725d",
   "metadata": {},
   "source": [
    "## LSTM (character + word) POS-tag model PyTorch\n"
   ]
  },
  {
   "cell_type": "code",
   "execution_count": 1,
   "id": "09f977c0",
   "metadata": {},
   "outputs": [],
   "source": [
    "import pandas as pd\n",
    "import numpy as np\n",
    "import torch\n",
    "import torch.nn as nn\n",
    "import torch.nn.functional as F\n",
    "import torch.optim as optim\n",
    "import matplotlib.pyplot as plt"
   ]
  },
  {
   "cell_type": "code",
   "execution_count": 2,
   "id": "14064841",
   "metadata": {},
   "outputs": [],
   "source": [
    "def prepare_sequence(seq, to_ix):\n",
    "    \"\"\"Input: takes in a list of words, and a dictionary containing the index of the words\n",
    "    Output: a tensor containing the indexes of the word\"\"\"\n",
    "    idxs = [to_ix[w] for w in seq]\n",
    "    return torch.tensor(idxs, dtype=torch.long)\n",
    "\n",
    "# This is the example training data\n",
    "training_data = [\n",
    "    (\"the dog happily ate the big apple\".split(), [\"DET\", \"NN\", \"ADV\", \"V\", \"DET\", \"ADJ\", \"NN\"]),\n",
    "    (\"everybody read that good book quietly in the hall\".split(), [\"NN\", \"V\", \"DET\", \"ADJ\", \"NN\", \"ADV\", \"PRP\", \"DET\", \"NN\"]),\n",
    "    (\"the old head master sternly scolded the naughty children for \\\n",
    "     being very loud\".split(), [\"DET\", \"ADJ\", \"ADJ\", \"NN\", \"ADV\", \"V\", \"DET\", \"ADJ\",  \"NN\", \"PRP\", \"V\", \"ADJ\", \"NN\"]),\n",
    "    (\"i love you loads\".split(), [\"PRN\", \"V\", \"PRN\", \"ADV\"])\n",
    "]\n",
    "#  These are other words which we would like to predict (within sentences) using the model\n",
    "other_words = [\"area\", \"book\", \"business\", \"case\", \"child\", \"company\", \"country\", \n",
    "               \"day\", \"eye\", \"fact\", \"family\", \"government\", \"group\", \"hand\", \"home\", \n",
    "               \"job\", \"life\", \"lot\", \"man\", \"money\", \"month\", \"mother\", \"food\", \"night\", \n",
    "               \"number\", \"part\", \"people\", \"place\", \"point\", \"problem\", \"program\", \n",
    "               \"question\", \"right\", \"room\", \"school\", \"state\", \"story\", \"student\", \n",
    "               \"study\", \"system\", \"thing\", \"time\", \"water\", \"way\", \"week\", \"woman\", \n",
    "               \"word\", \"work\", \"world\", \"year\", \"ask\", \"be\", \"become\", \"begin\", \"can\", \n",
    "               \"come\", \"do\", \"find\", \"get\", \"go\", \"have\", \"hear\", \"keep\", \"know\", \"let\", \n",
    "               \"like\", \"look\", \"make\", \"may\", \"mean\", \"might\", \"move\", \"play\", \"put\", \n",
    "               \"run\", \"say\", \"see\", \"seem\", \"should\", \"start\", \"think\", \"try\", \"turn\", \n",
    "               \"use\", \"want\", \"will\", \"work\", \"would\", \"asked\", \"was\", \"became\", \"began\", \n",
    "               \"can\", \"come\", \"do\", \"did\", \"found\", \"got\", \"went\", \"had\", \"heard\", \"kept\", \n",
    "               \"knew\", \"let\", \"liked\", \"looked\", \"made\", \"might\", \"meant\", \"might\", \"moved\", \n",
    "               \"played\", \"put\", \"ran\", \"said\", \"saw\", \"seemed\", \"should\", \"started\", \n",
    "               \"thought\", \"tried\", \"turned\", \"used\", \"wanted\" \"worked\", \"would\", \"able\", \n",
    "               \"bad\", \"best\", \"better\", \"big\", \"black\", \"certain\", \"clear\", \"different\", \n",
    "               \"early\", \"easy\", \"economic\", \"federal\", \"free\", \"full\", \"good\", \"great\", \n",
    "               \"hard\", \"high\", \"human\", \"important\", \"international\", \"large\", \"late\", \n",
    "               \"little\", \"local\", \"long\", \"low\", \"major\", \"military\", \"national\", \"new\", \n",
    "               \"old\", \"only\", \"other\", \"political\", \"possible\", \"public\", \"real\", \"recent\", \n",
    "               \"right\", \"small\", \"social\", \"special\", \"strong\", \"sure\", \"true\", \"white\", \n",
    "               \"whole\", \"young\", \"he\", \"she\", \"it\", \"they\", \"i\", \"my\", \"mine\", \"your\", \"his\", \n",
    "               \"her\", \"father\", \"mother\", \"dog\", \"cat\", \"cow\", \"tiger\", \"a\", \"about\", \"all\", \n",
    "               \"also\", \"and\", \"as\", \"at\", \"be\", \"because\", \"but\", \"by\", \"can\", \"come\", \"could\", \n",
    "               \"day\", \"do\", \"even\", \"find\", \"first\", \"for\", \"from\", \"get\", \"give\", \"go\", \n",
    "               \"have\", \"he\", \"her\", \"here\", \"him\", \"his\", \"how\", \"I\", \"if\", \"in\", \"into\", \n",
    "               \"it\", \"its\", \"just\", \"know\", \"like\", \"look\", \"make\", \"man\", \"many\", \"me\", \n",
    "               \"more\", \"my\", \"new\", \"no\", \"not\", \"now\", \"of\", \"on\", \"one\", \"only\", \"or\", \n",
    "               \"other\", \"our\", \"out\", \"people\", \"say\", \"see\", \"she\", \"so\", \"some\", \"take\", \n",
    "               \"tell\", \"than\", \"that\", \"the\", \"their\", \"them\", \"then\", \"there\", \"these\", \n",
    "               \"they\", \"thing\", \"think\", \"this\", \"those\", \"time\", \"to\", \"two\", \"up\", \"use\", \n",
    "               \"very\", \"want\", \"way\", \"we\", \"well\", \"what\", \"when\", \"which\", \"who\", \"will\", \n",
    "               \"with\", \"would\", \"year\", \"you\", \"your\",\"feel\",\"today\"]\n",
    "\n",
    "word_to_ix = {} # This is the word dictionary which will contain the index to each word\n",
    "\n",
    "for sent, tags in training_data:\n",
    "    for word in sent:\n",
    "        if word not in word_to_ix.keys():\n",
    "            word_to_ix[word] = len(word_to_ix)\n",
    "for word in other_words:\n",
    "    if word not in word_to_ix.keys():\n",
    "            word_to_ix[word] = len(word_to_ix)\n",
    "\n",
    "#print(word_to_ix) # Just have a look at what it contains\n",
    "\n",
    "tag_to_ix = {\"DET\": 0, \"NN\": 1, \"V\": 2, \"ADJ\": 3, \"ADV\": 4, \"PRP\": 5, \"PRN\": 6} # This dictionary contains the indices of the tags\n",
    "\n",
    "EMBEDDING_DIM = 64\n",
    "HIDDEN_DIM = 64"
   ]
  },
  {
   "cell_type": "code",
   "execution_count": 3,
   "id": "95a96a47",
   "metadata": {},
   "outputs": [],
   "source": [
    "class LSTMTagger(nn.Module):\n",
    "    def __init__(self, embedding_dim, hidden_dim, vocab_size, target_size):\n",
    "        super(LSTMTagger, self).__init__()\n",
    "        \n",
    "        self.hidden_dim = hidden_dim\n",
    "        \n",
    "        self.word_embeddings = nn.Embedding(vocab_size, embedding_dim)\n",
    "\n",
    "        self.lstm = nn.LSTM(embedding_dim, hidden_dim)\n",
    "        self.hidden2tag = nn.Linear(hidden_dim, target_size)\n",
    "        \n",
    "    def forward(self, sentence):\n",
    "        embeds = self.word_embeddings(sentence)\n",
    "        #print('embed size',embeds.shape,embeds.view(len(sentence), 1, -1).shape)\n",
    "        lstm_out, _ = self.lstm(embeds.view(len(sentence), 1, -1))\n",
    "        #print('lstm_out size',lstm_out.shape,lstm_out.view(len(sentence), 1, -1).shape)\n",
    "        tag_space = self.hidden2tag(lstm_out.view(len(sentence), -1))\n",
    "        #print(tag_space.shape)\n",
    "        tag_scores = F.log_softmax(tag_space, dim=1)\n",
    "        return tag_scores"
   ]
  },
  {
   "cell_type": "code",
   "execution_count": 4,
   "id": "9f09e2a9",
   "metadata": {},
   "outputs": [
    {
     "name": "stdout",
     "output_type": "stream",
     "text": [
      "Running a check on the model before training.\n",
      "Sentences:\n",
      "I feel very good today\n",
      "she like my dog\n",
      "[('I', 'ADV'), ('feel', 'ADV'), ('very', 'ADV'), ('good', 'ADV'), ('today', 'ADV')]\n",
      "[('she', 'V'), ('like', 'ADV'), ('my', 'ADV'), ('dog', 'ADV')]\n",
      "Training Started\n",
      "Training Finished!!!\n",
      "Again testing on unknown data\n",
      "torch.Size([5, 7])\n",
      "[('I', 'ADV'), ('feel', 'NN'), ('very', 'ADJ'), ('good', 'ADJ'), ('today', 'ADJ')]\n",
      "torch.Size([4, 7])\n",
      "[('she', 'V'), ('like', 'V'), ('my', 'V'), ('dog', 'NN')]\n"
     ]
    },
    {
     "data": {
      "text/plain": [
       "[<matplotlib.lines.Line2D at 0x7fb7b6fc4940>]"
      ]
     },
     "execution_count": 4,
     "metadata": {},
     "output_type": "execute_result"
    },
    {
     "data": {
      "image/png": "[encoded data removed]",
      "text/plain": [
       "<Figure size 432x288 with 1 Axes>"
      ]
     },
     "metadata": {
      "needs_background": "light"
     },
     "output_type": "display_data"
    }
   ],
   "source": [
    "# Here I initialize the model with all the necesarry parameters\n",
    "model = LSTMTagger(EMBEDDING_DIM, HIDDEN_DIM, len(word_to_ix.keys()), len(tag_to_ix.keys()))\n",
    "\n",
    "# Define the loss function as the Negative Log Likelihood loss (NLLLoss)\n",
    "loss_function = nn.NLLLoss()\n",
    "\n",
    "# We will be using a simple SGD optimizer\n",
    "optimizer = optim.SGD(model.parameters(), lr=0.1)\n",
    "\n",
    "# The test sentence\n",
    "seq1 = \"I feel very good today\".split()\n",
    "seq2 = \"she like my dog\".split()\n",
    "print(\"Running a check on the model before training.\\nSentences:\\n{}\\n{}\".format(\" \".join(seq1), \" \".join(seq2)))\n",
    "with torch.no_grad():\n",
    "    for seq in [seq1, seq2]:\n",
    "        inputs = prepare_sequence(seq, word_to_ix)\n",
    "        tag_scores = model(inputs)\n",
    "        _, indices = torch.max(tag_scores, 1)\n",
    "        ret = []\n",
    "        for i in range(len(indices)):\n",
    "            for key, value in tag_to_ix.items():\n",
    "                if indices[i] == value:\n",
    "                    ret.append((seq[i], key))\n",
    "        print(ret)\n",
    "    \n",
    "print(\"Training Started\")\n",
    "totloss=[]\n",
    "for epoch in range(300):\n",
    "    for sentence, tags in training_data:\n",
    "        model.zero_grad()\n",
    "        sentence_in = prepare_sequence(sentence, word_to_ix)\n",
    "        targets = prepare_sequence(tags, tag_to_ix)\n",
    "        \n",
    "        tag_scores = model(sentence_in)\n",
    "        \n",
    "        loss = loss_function(tag_scores, targets)\n",
    "        totloss.append(loss.detach().numpy())\n",
    "        loss.backward()\n",
    "        optimizer.step()\n",
    "print(\"Training Finished!!!\\nAgain testing on unknown data\")\n",
    "with torch.no_grad():\n",
    "    for seq in [seq1, seq2]:\n",
    "        inputs = prepare_sequence(seq, word_to_ix)\n",
    "        tag_scores = model(inputs)\n",
    "        print(tag_scores.shape)\n",
    "        _, indices = torch.max(tag_scores, 1)\n",
    "        ret = []\n",
    "        for i in range(len(indices)):\n",
    "            for key, value in tag_to_ix.items():\n",
    "                if indices[i] == value:\n",
    "                    ret.append((seq[i], key))\n",
    "        print(ret)\n",
    "plt.plot(totloss)"
   ]
  },
  {
   "cell_type": "markdown",
   "id": "9120f32b",
   "metadata": {},
   "source": [
    "# Recommender systems: Matrix factorization"
   ]
  },
  {
   "cell_type": "code",
   "execution_count": 21,
   "id": "d890af29",
   "metadata": {},
   "outputs": [],
   "source": [
    "import numpy as np\n",
    "from scipy.sparse import rand as sprand\n",
    "import torch\n",
    "import torch.nn as nn\n",
    "\n",
    "# Make up some random explicit feedback ratings\n",
    "# and convert to a numpy array\n",
    "n_users = 3#1_000\n",
    "n_items = 3#1_000\n",
    "ratings = sprand(n_users, n_items, density=0.2, format=\"csr\")\n",
    "ratings.data = np.random.randint(1, 5, size=ratings.nnz).astype(np.float64)\n",
    "ratings = ratings.toarray()\n",
    "\n",
    "ratings2 = sprand(n_users, n_items, density=0.2, format=\"csr\")\n",
    "ratings2.data = np.random.randint(1, 5, size=ratings2.nnz).astype(np.float64)\n",
    "ratings2 = ratings2.toarray()\n",
    "\n"
   ]
  },
  {
   "cell_type": "code",
   "execution_count": 32,
   "id": "8a298097",
   "metadata": {},
   "outputs": [
    {
     "name": "stdout",
     "output_type": "stream",
     "text": [
      "[[0. 0. 4.]\n",
      " [0. 0. 0.]\n",
      " [2. 0. 0.]]\n",
      "\n",
      "[[0. 0. 0.]\n",
      " [0. 4. 0.]\n",
      " [0. 4. 0.]]\n",
      "{(0, 2): 4.0, (2, 0): 2.0}\n",
      "{(1, 1): 4.0, (2, 1): 4.0}\n",
      "0 4.0\n",
      "2 2.0\n"
     ]
    }
   ],
   "source": [
    "print(ratings)\n",
    "print()\n",
    "print(ratings2)\n",
    "\n",
    "res=np.zeros((len(ratings),len(ratings[0])))\n",
    "\n",
    "dic={}\n",
    "dic2={}\n",
    "\n",
    "#sparse representation of the matrices saved as {(i,j):v} format in a dictionary\n",
    "for i in range(len(ratings)):\n",
    "    for j in range (len(ratings[0])):\n",
    "        if ratings[i][j]!=0:\n",
    "            dic[(i,j)]=ratings[i][j]\n",
    "            \n",
    "        if ratings2[i][j]!=0:\n",
    "            dic2[(i,j)]=ratings2[i][j]\n",
    "print(dic)\n",
    "print(dic2)\n",
    "\n",
    "for (r1,c1),v in dic.items():\n",
    "    for (r2,c2),v2 in dic2.items():\n",
    "        if c1==r2:\n",
    "            \n",
    "        \n",
    "    "
   ]
  },
  {
   "cell_type": "code",
   "execution_count": 8,
   "id": "482e0c1c",
   "metadata": {},
   "outputs": [],
   "source": [
    "class matrixFactorization(nn.Module):\n",
    "    def __init__(self,nUsers,nItems,factor=2):\n",
    "        super(matrixFactorization,self).__init__()\n",
    "        self.userEmbedding=nn.Embedding(nUsers,factor,sparse=True)\n",
    "        self.itemEmbeddings=nn.Embedding(nItems,factor,sparse=True)\n",
    "    \n",
    "    def forward(self,user,item):\n",
    "        return (self.userEmbedding(user)*self.itemEmbeddings(item)).sum(1)\n",
    "    "
   ]
  },
  {
   "cell_type": "code",
   "execution_count": 99,
   "id": "3d60275e",
   "metadata": {},
   "outputs": [],
   "source": [
    "model=matrixFactorization(n_users,n_items,2)\n",
    "\n",
    "loss_func=nn.MSELoss()\n",
    "optimizer=torch.optim.SGD(model.parameters(),lr=0.001)\n"
   ]
  },
  {
   "cell_type": "code",
   "execution_count": 100,
   "id": "ddeabb8e",
   "metadata": {},
   "outputs": [],
   "source": [
    "# Sort our data\n",
    "rows, cols = ratings.nonzero()\n",
    "#print(rows,cols)\n",
    "p = np.random.permutation(len(rows))\n",
    "#print(p)\n",
    "rows, cols = rows[p], cols[p]\n",
    "#print(rows,cols)"
   ]
  },
  {
   "cell_type": "code",
   "execution_count": 101,
   "id": "64d8b249",
   "metadata": {},
   "outputs": [],
   "source": [
    "losses=[]\n",
    "for epoch in range(400):\n",
    "    curloss=0\n",
    "    step=0\n",
    "    for row, col in zip(*(rows, cols)):\n",
    "        step+=1\n",
    "        # Set gradients to zero\n",
    "        optimizer.zero_grad()\n",
    "\n",
    "        # Turn data into tensors\n",
    "        rating = torch.FloatTensor([ratings[row, col]])\n",
    "        row = torch.LongTensor([row])\n",
    "        col = torch.LongTensor([col])\n",
    "\n",
    "        # Predict and calculate loss\n",
    "        prediction = model(row, col)\n",
    "\n",
    "        loss = loss_func(prediction, rating)\n",
    "        curloss+=loss.item()\n",
    "    \n",
    "        # Backpropagate\n",
    "        loss.backward()\n",
    "\n",
    "        # Update the parameters\n",
    "        optimizer.step()\n",
    "    losses.append(curloss/step)"
   ]
  },
  {
   "cell_type": "code",
   "execution_count": 102,
   "id": "0a1a2636",
   "metadata": {},
   "outputs": [
    {
     "name": "stdout",
     "output_type": "stream",
     "text": [
      "[[1. 2. 3. 0. 1. 2. 4. 0. 2. 1.]\n",
      " [1. 1. 3. 1. 4. 2. 2. 1. 0. 1.]\n",
      " [2. 4. 3. 4. 2. 1. 0. 1. 1. 0.]\n",
      " [0. 1. 4. 0. 1. 1. 2. 2. 4. 4.]\n",
      " [4. 0. 4. 4. 0. 4. 1. 4. 0. 0.]\n",
      " [2. 4. 2. 2. 2. 1. 0. 0. 4. 3.]\n",
      " [2. 3. 2. 4. 3. 3. 4. 1. 1. 4.]\n",
      " [1. 0. 3. 2. 4. 4. 1. 1. 2. 1.]\n",
      " [3. 0. 1. 0. 4. 4. 0. 0. 4. 3.]\n",
      " [0. 2. 3. 3. 1. 3. 3. 1. 1. 0.]]\n"
     ]
    },
    {
     "data": {
      "image/png": "[encoded data removed]",
      "text/plain": [
       "<Figure size 432x288 with 1 Axes>"
      ]
     },
     "metadata": {
      "needs_background": "light"
     },
     "output_type": "display_data"
    }
   ],
   "source": [
    "import  matplotlib.pyplot as plt\n",
    "plt.plot(losses)\n",
    "print(ratings)"
   ]
  },
  {
   "cell_type": "code",
   "execution_count": 104,
   "id": "4449d0ea",
   "metadata": {},
   "outputs": [
    {
     "name": "stdout",
     "output_type": "stream",
     "text": [
      "tensor([2.1273])\n"
     ]
    }
   ],
   "source": [
    "\n",
    "with torch.no_grad():\n",
    "    pred=model(torch.tensor([9]),torch.tensor([0]))\n",
    "    print(pred)\n",
    "    "
   ]
  },
  {
   "cell_type": "code",
   "execution_count": 43,
   "id": "366420e4",
   "metadata": {},
   "outputs": [
    {
     "name": "stdout",
     "output_type": "stream",
     "text": [
      "tensor([ 1.0214e+00, -2.1773e+00,  2.3675e-01,  2.3117e+00,  5.3566e-04,\n",
      "         1.3152e-01, -9.7963e-01, -2.6640e+00, -8.2610e-01,  7.4281e-01]) tensor([0.4867, 0.2785], grad_fn=<AddBackward0>) tensor(0.3787, grad_fn=<MseLossBackward0>)\n"
     ]
    }
   ],
   "source": [
    "import torch\n",
    "import torch.nn as nn\n",
    "\n",
    "model=nn.Linear(10,2)\n",
    "\n",
    "loss_func=nn.MSELoss()\n",
    "\n",
    "input_vector=torch.randn(10)\n",
    "prediction=model(input_vector)\n",
    "Gt=torch.tensor([0,1])\n",
    "loss=loss_func(prediction,Gt)\n",
    "print(input_vector,prediction,loss)"
   ]
  },
  {
   "cell_type": "code",
   "execution_count": 49,
   "id": "2a2ada30",
   "metadata": {},
   "outputs": [
    {
     "name": "stdout",
     "output_type": "stream",
     "text": [
      "0.weight Parameter containing:\n",
      "tensor([[ 0.4861,  0.0571,  0.0342],\n",
      "        [-0.3225, -0.2848, -0.3806],\n",
      "        [-0.3647, -0.4927,  0.1789],\n",
      "        [ 0.2739,  0.0799,  0.3640],\n",
      "        [-0.3199,  0.1068,  0.2925]], requires_grad=True)\n",
      "0.bias Parameter containing:\n",
      "tensor([ 0.5144, -0.0796, -0.1078, -0.2687,  0.2310], requires_grad=True)\n",
      "2.weight Parameter containing:\n",
      "tensor([[-0.0592,  0.3128, -0.0380, -0.2007, -0.3311],\n",
      "        [ 0.3781,  0.4304, -0.2772,  0.0843, -0.2007]], requires_grad=True)\n",
      "2.bias Parameter containing:\n",
      "tensor([ 0.2276, -0.3892], requires_grad=True)\n"
     ]
    }
   ],
   "source": [
    "import torch.nn as nn\n",
    "\n",
    "model=nn.Sequential(nn.Linear(3,5),\n",
    "                   nn.ReLU(),\n",
    "                    nn.Linear(5,2),\n",
    "                    nn.ReLU())\n",
    "\n",
    "for name,p in model.named_parameters():\n",
    "    print(name,p)\n"
   ]
  },
  {
   "cell_type": "markdown",
   "id": "181ef42c",
   "metadata": {},
   "source": [
    "# VAE"
   ]
  },
  {
   "cell_type": "code",
   "execution_count": 45,
   "id": "d6043a63",
   "metadata": {},
   "outputs": [],
   "source": [
    "import torch\n",
    "import torch.nn as nn\n",
    "import torch.nn.functional as F\n",
    "\n",
    "\n",
    "class VAE(nn.Module):\n",
    "    def __init__(self):\n",
    "        super(VAE, self).__init__()\n",
    "        self.features =16\n",
    "        # encoder\n",
    "        self.enc1 = nn.Linear(in_features=3072, out_features=128)\n",
    "        self.enc2 = nn.Linear(in_features=128, out_features=self.features * 2)\n",
    "\n",
    "        # decoder\n",
    "        self.dec1 = nn.Linear(in_features=self.features, out_features=128)\n",
    "        self.dec2 = nn.Linear(in_features=128, out_features=3072)\n",
    "\n",
    "    def forward(self, x):\n",
    "        # encoding\n",
    "        x = F.relu(self.enc1(x))\n",
    "        x = self.enc2(x).view(-1, 2, self.features)\n",
    "        # get `mu` and `log_var`\n",
    "        mu = x[:, 0, :]  # the first feature values as mean\n",
    "        log_var = x[:, 1, :]  # the other feature values as variance\n",
    "        # get the latent vector through reparameterization\n",
    "        z = self.reparameterize(mu, log_var)\n",
    "\n",
    "        # decoding\n",
    "        x = F.relu(self.dec1(z))\n",
    "        reconstruction = torch.sigmoid(self.dec2(x))\n",
    "        return reconstruction, mu, log_var\n",
    "    \n",
    "    def reparameterize(self, mu, log_var):\n",
    "        \"\"\"\n",
    "        :param mu: mean from the encoder's latent space\n",
    "        :param log_var: log variance from the encoder's latent space\n",
    "        \"\"\"\n",
    "        std = torch.exp(0.5 * log_var)  # standard deviation\n",
    "        eps = torch.randn_like(std)  # generate sample of the same size\n",
    "        sample = mu + (eps * std)  # sampling as if coming from the input space\n",
    "        return sample"
   ]
  },
  {
   "cell_type": "code",
   "execution_count": 46,
   "id": "07569ebd",
   "metadata": {},
   "outputs": [],
   "source": [
    "\n",
    "    \n",
    "def final_loss(bce_loss, mu, logvar):\n",
    "    \"\"\"\n",
    "    This function will add the reconstruction loss (BCELoss) and the\n",
    "    KL-Divergence.\n",
    "    KL-Divergence = 0.5 * sum(1 + log(sigma^2) - mu^2 - sigma^2)\n",
    "    :param bce_loss: recontruction loss\n",
    "    :param mu: the mean from the latent vector\n",
    "    :param logvar: log variance from the latent vector\n",
    "    \"\"\"\n",
    "    BCE = bce_loss\n",
    "    KLD = -0.5 * torch.sum(1 + logvar - mu.pow(2) - logvar.exp())\n",
    "    return BCE + KLD"
   ]
  },
  {
   "cell_type": "code",
   "execution_count": 47,
   "id": "f1f51609",
   "metadata": {},
   "outputs": [],
   "source": [
    "import os\n",
    "import sys\n",
    "import torchvision.transforms as transforms\n",
    "import torchvision\n",
    "import torch.optim as optim\n",
    "\n",
    "cwd = os.getcwd()\n",
    "#add CIFAR10 data in the environment\n",
    "sys.path.append(cwd + '/../cifar10') \n",
    "batch_size=1\n",
    "\n",
    "\n",
    "def load_data():\n",
    "    \n",
    "    #convert the images to tensor and normalized them\n",
    "    transform = transforms.Compose([\n",
    "         transforms.ToTensor(),\n",
    "         transforms.Normalize((0.5, 0.5, 0.5), (0.5, 0.5, 0.5))\n",
    "        ])\n",
    "\n",
    "    trainset =torchvision.datasets.CIFAR10(root='../cifar10',  transform=transform,download=True)\n",
    "    trainloader = torch.utils.data.DataLoader(trainset, batch_size=batch_size,\n",
    "                                              shuffle=False, num_workers=1)\n",
    "    return trainloader"
   ]
  },
  {
   "cell_type": "code",
   "execution_count": 61,
   "id": "fa62ae88",
   "metadata": {},
   "outputs": [],
   "source": [
    "def train(model,training_data):\n",
    "\n",
    "    optimizer = optim.Adam(model.parameters(), lr=0.001)\n",
    "    criterion = nn.BCELoss(reduction='sum')\n",
    "\n",
    "    running_loss = 0.0\n",
    "\n",
    "    for epoch in range(1):  # loop over the dataset multiple times\n",
    "\n",
    "        for i, data in enumerate(training_data, 0):\n",
    "            inputs, _ = data\n",
    "            inputs = inputs.view(inputs.size(0), -1)\n",
    "\n",
    "            optimizer.zero_grad()\n",
    "            reconstruction, mu, logvar = model(inputs)\n",
    "            bce_loss = criterion(reconstruction, inputs)\n",
    "            loss = final_loss(bce_loss, mu, logvar)\n",
    "            running_loss += loss.item()\n",
    "            loss.backward()\n",
    "            optimizer.step()\n",
    "\n",
    "            # print statistics\n",
    "            running_loss += loss.item()\n",
    "            if i % 2000 == 1999:  # print every 2000 mini-batches\n",
    "                print('[%d, %5d] loss: %.3f' %\n",
    "                      (epoch + 1, i + 1, running_loss / 2000))\n",
    "                running_loss = 0.0\n",
    "\n",
    "    PATH = './cifar_net.pth'\n",
    "    torch.save(model.state_dict(), PATH)\n",
    "\n",
    "    print('Finished Training')"
   ]
  },
  {
   "cell_type": "code",
   "execution_count": 62,
   "id": "ad6b3bec",
   "metadata": {},
   "outputs": [
    {
     "name": "stdout",
     "output_type": "stream",
     "text": [
      "Files already downloaded and verified\n"
     ]
    }
   ],
   "source": [
    "trainloader=load_data()"
   ]
  },
  {
   "cell_type": "code",
   "execution_count": 63,
   "id": "0181594c",
   "metadata": {},
   "outputs": [
    {
     "name": "stdout",
     "output_type": "stream",
     "text": [
      "torch.Size([1, 3, 32, 32])\n"
     ]
    },
    {
     "data": {
      "image/png": "[encoded data removed]",
      "text/plain": [
       "<Figure size 432x288 with 1 Axes>"
      ]
     },
     "metadata": {
      "needs_background": "light"
     },
     "output_type": "display_data"
    },
    {
     "name": "stdout",
     "output_type": "stream",
     "text": [
      "frog \n"
     ]
    }
   ],
   "source": [
    "import matplotlib.pyplot as plt\n",
    "import numpy as np\n",
    "\n",
    "classes = ('plane', 'car', 'bird', 'cat',\n",
    "           'deer', 'dog', 'frog', 'horse', 'ship', 'truck')\n",
    "\n",
    "\n",
    "\n",
    "# functions to show an image\n",
    "\n",
    "\n",
    "def imshow(img):\n",
    "    img = img / 2 + 0.5     # unnormalize\n",
    "    npimg = img.numpy()\n",
    "    plt.imshow(np.transpose(npimg, (1, 2, 0)))\n",
    "    plt.show()\n",
    "\n",
    "\n",
    "# get some random training images\n",
    "dataiter = iter(trainloader)\n",
    "images, labels = next(dataiter)\n",
    "print(images.shape)\n",
    "# show images\n",
    "imshow(torchvision.utils.make_grid(images))\n",
    "# print labels\n",
    "print(' '.join(f'{classes[labels[j]]:5s}' for j in range(batch_size)))"
   ]
  },
  {
   "cell_type": "code",
   "execution_count": 64,
   "id": "04319856",
   "metadata": {},
   "outputs": [
    {
     "name": "stdout",
     "output_type": "stream",
     "text": [
      "[1,  2000] loss: -56146.893\n",
      "[1,  4000] loss: -70058.395\n",
      "[1,  6000] loss: -71362.277\n",
      "[1,  8000] loss: -73500.338\n",
      "[1, 10000] loss: -75543.142\n",
      "[1, 12000] loss: -77074.568\n",
      "[1, 14000] loss: 334371.502\n",
      "[1, 16000] loss: -85417.860\n",
      "[1, 18000] loss: 369923.860\n",
      "[1, 20000] loss: -85576.387\n",
      "[1, 22000] loss: -86491.117\n",
      "[1, 24000] loss: -89407.634\n",
      "[1, 26000] loss: -86181.065\n",
      "[1, 28000] loss: -86359.170\n",
      "[1, 30000] loss: -86678.511\n",
      "[1, 32000] loss: -85929.360\n",
      "[1, 34000] loss: -88740.907\n",
      "[1, 36000] loss: -78596.492\n",
      "[1, 38000] loss: -88964.447\n",
      "[1, 40000] loss: -85810.345\n",
      "[1, 42000] loss: -87533.843\n",
      "[1, 44000] loss: -84829.239\n",
      "[1, 46000] loss: 112777.788\n",
      "[1, 48000] loss: -55955.773\n",
      "[1, 50000] loss: -71999.764\n",
      "Finished Training\n"
     ]
    }
   ],
   "source": [
    "model=VAE()\n",
    "train(model,trainloader)"
   ]
  },
  {
   "cell_type": "code",
   "execution_count": 73,
   "id": "dd3f1cb7",
   "metadata": {},
   "outputs": [
    {
     "name": "stdout",
     "output_type": "stream",
     "text": [
      "Epoch0, loss : 0.6972151398658752\n",
      "Epoch5, loss : 0.69350665807724\n",
      "Epoch10, loss : 0.692272961139679\n",
      "Epoch15, loss : 0.6893554925918579\n"
     ]
    },
    {
     "data": {
      "text/plain": [
       "[<matplotlib.lines.Line2D at 0x7f9cbc97f550>]"
      ]
     },
     "execution_count": 73,
     "metadata": {},
     "output_type": "execute_result"
    },
    {
     "data": {
      "image/png": "[encoded data removed]",
      "text/plain": [
       "<Figure size 432x288 with 1 Axes>"
      ]
     },
     "metadata": {
      "needs_background": "light"
     },
     "output_type": "display_data"
    }
   ],
   "source": [
    "\n",
    "\n",
    "#get_ipython().run_line_magic('matplotlib', 'inline')\n",
    "import torch\n",
    "import torch.nn as nn\n",
    "import torch.nn.functional as F\n",
    "import torch.optim as optim\n",
    "import numpy as np\n",
    "\n",
    "\n",
    "# In[2]:\n",
    "\n",
    "\n",
    "class RankNet(nn.Module):\n",
    "    def __init__(self, num_feature):\n",
    "        super(RankNet, self).__init__()\n",
    "\n",
    "        self.model = nn.Sequential(\n",
    "            nn.Linear( num_feature, 512),\n",
    "            nn.Dropout(0.5),\n",
    "            nn.LeakyReLU(0.2, inplace=True),\n",
    "            nn.Linear(512, 256),\n",
    "            nn.Dropout(0.5),\n",
    "            nn.LeakyReLU(0.2, inplace=True),\n",
    "            nn.Linear(256, 1),\n",
    "#             nn.Sigmoid()\n",
    "        )\n",
    "        self.output_sig = nn.Sigmoid()\n",
    "\n",
    "    def forward(self, input_1,input_2):\n",
    "\n",
    "\n",
    "        s1 = self.model(input_1)\n",
    "        s2 = self.model(input_2)\n",
    "        \n",
    "        out = self.output_sig(s1-s2)\n",
    "\n",
    "        return out\n",
    "    \n",
    "    def predict(self, input_):\n",
    "        \n",
    "        s = self.model(input_)\n",
    "        return s\n",
    "\n",
    "\n",
    "# In[12]:\n",
    "\n",
    "\n",
    "n_sample = 3000\n",
    "n_feature = 30\n",
    "data1 = torch.rand((n_sample,n_feature))\n",
    "data2 = torch.rand((n_sample, n_feature))\n",
    "\n",
    "y = np.random.random(( n_sample,1))\n",
    "y = y > 0.9\n",
    "y = 1. * y\n",
    "y = torch.Tensor(y)\n",
    "\n",
    "rank_model = RankNet(num_feature=n_feature)\n",
    "optimizer = torch.optim.Adam(rank_model.parameters())\n",
    "\n",
    "loss_fun = torch.nn.BCELoss()\n",
    "\n",
    "#rank_model.cuda()\n",
    "# optimizer.cuda()\n",
    "#loss_fun.cuda()\n",
    "\n",
    "#data1 = data1.cuda()\n",
    "#data2 = data2.cuda()\n",
    "\n",
    "#y = y.cuda()\n",
    "\n",
    "\n",
    "# In[13]:\n",
    "\n",
    "\n",
    "epoch = 20\n",
    "\n",
    "losses = []\n",
    "\n",
    "for i in range(epoch):\n",
    "    \n",
    "    rank_model.zero_grad()\n",
    "    \n",
    "    y_pred = rank_model(data1, data2)\n",
    "    \n",
    "    loss = loss_fun(y_pred,y)\n",
    "    \n",
    "    loss.backward()\n",
    "    optimizer.step()\n",
    "    \n",
    "    losses.append(loss.item())\n",
    "    \n",
    "    if i % 5 == 0:\n",
    "    \n",
    "        print('Epoch{}, loss : {}'.format(i, loss.item()))\n",
    "    \n",
    "    \n",
    "\n",
    "\n",
    "# In[6]:\n",
    "\n",
    "\n",
    "import matplotlib.pyplot as plt\n",
    "\n",
    "\n",
    "# In[7]:\n",
    "\n",
    "\n",
    "#x = list(range(10000))\n",
    "\n",
    "\n",
    "# In[11]:\n",
    "\n",
    "\n",
    "plt.plot( losses)"
   ]
  },
  {
   "cell_type": "markdown",
   "id": "acaf79a6",
   "metadata": {},
   "source": [
    "# Weighted loss for imbalanced data"
   ]
  },
  {
   "cell_type": "code",
   "execution_count": 13,
   "id": "b0d35f8a",
   "metadata": {},
   "outputs": [
    {
     "name": "stdout",
     "output_type": "stream",
     "text": [
      "target: tensor([0., 1., 0., 0.])\n",
      "class weights tensor([0.3333, 1.0000])\n",
      "class weights of target: tensor([0.3333, 1.0000, 0.3333, 0.3333])\n",
      "tensor(0.7136)\n",
      "tensor(0.3568)\n"
     ]
    }
   ],
   "source": [
    "import torch\n",
    "import torch.nn as nn\n",
    "\n",
    "# Define the loss function, in this case, binary cross-entropy\n",
    "criterion = nn.BCELoss(reduction='mean')\n",
    "\n",
    "# Define the target and predicted outputs\n",
    "target = torch.tensor([0, 1, 0, 0], dtype=torch.float32)\n",
    "predicted = torch.tensor([0.1, 0.4, 0.8, 0.2], dtype=torch.float32)\n",
    "\n",
    "# Calculate the class weights based on the frequency of the classes\n",
    "class_weights = torch.tensor([1/(len(target[target==0])),1/len(target[target==1])], dtype=torch.float32)\n",
    "\n",
    "# Calculate the weighted loss\n",
    "loss = criterion(predicted, target)\n",
    "weighted_loss = (class_weights[target.long()] * loss).mean()\n",
    "\n",
    "print('target:',target)\n",
    "print('class weights',class_weights)\n",
    "print('class weights of target:',class_weights[target.long()])\n",
    "print(loss)\n",
    "print(weighted_loss)\n"
   ]
  },
  {
   "cell_type": "code",
   "execution_count": 5,
   "id": "cb069282",
   "metadata": {},
   "outputs": [
    {
     "name": "stdout",
     "output_type": "stream",
     "text": [
      "tensor([3, 1])\n",
      "tensor([0.3333, 1.0000])\n"
     ]
    }
   ],
   "source": [
    "# Calculate the frequency of each class\n",
    "class_counts = torch.bincount(target.to(dtype=torch.uint8))\n",
    "\n",
    "# Calculate the inverse of the frequency to get the class weights\n",
    "class_weights = 1. / class_counts\n",
    "\n",
    "print(class_counts)\n",
    "print(class_weights)"
   ]
  },
  {
   "cell_type": "markdown",
   "id": "02298d41",
   "metadata": {},
   "source": [
    "# Seq to Seq model for language translation"
   ]
  },
  {
   "cell_type": "code",
   "execution_count": 87,
   "id": "a22967bf",
   "metadata": {},
   "outputs": [
    {
     "name": "stdout",
     "output_type": "stream",
     "text": [
      "100 100\n"
     ]
    }
   ],
   "source": [
    "import nltk\n",
    "#nltk.download('punkt')\n",
    "\n",
    "# Example input and output sequences\n",
    "input_lang = [\n",
    "    'hello there', 'goodbye for now', 'thanks', 'yes', 'no', 'please',\n",
    "    'what is your name', 'how are you', 'i am good', 'can you help me',\n",
    "    'where are you', 'when is your birthday', 'i love you', 'you are beautiful',\n",
    "    'i miss you', 'how old are you', 'what do you like', 'what is the time',\n",
    "    'how much does it cost', 'what are you doing', 'how was your day',\n",
    "    'i am sorry', 'what is your job', 'what are you', 'what is your favorite color',\n",
    "    'what is your favorite food', 'what is your hobby', 'what do you want to do',\n",
    "    'what is your country', 'where do you live', 'what is your age', 'what is your phone number',\n",
    "    'what do you think', 'what is your favorite book', 'what is your favorite movie', 'what is your favorite music',\n",
    "    'what is your dream', 'what is your plan', 'what is your goal', 'what is your religion',\n",
    "    'what is your email', 'what is your website', 'what is your company', 'what is your education',\n",
    "    'what is your experience', 'what is your address', 'what is your personality', 'what is your attitude',\n",
    "    'what is your skill', 'what is your strength', 'what is your weakness', 'what is your challenge',\n",
    "    'what is your achievement', 'what is your interest', 'what is your favorite sport', 'what is your favorite hobby',\n",
    "    'what is your favorite place', 'what is your favorite animal', 'what is your favorite subject', 'what is your favorite job',\n",
    "    'what is your favorite character', 'what is your favorite quote', 'what is your favorite game', 'what is your favorite website',\n",
    "    'what is your favorite drink', 'what is your favorite season', 'what is your favorite holiday', 'what is your favorite restaurant',\n",
    "    'what is your favorite song', 'what is your favorite singer', 'what is your favorite actor', 'what is your favorite actress',\n",
    "    'what is your favorite musician', 'what is your favorite band', 'what is your favorite artist', 'what is your favorite designer',\n",
    "    'what is your favorite brand', 'what is your favorite car', 'what is your favorite color', 'what is your favorite flower',\n",
    "    'what is your favorite tree', 'what is your favorite fruit', 'what is your favorite vegetable', 'what is your favorite animal',\n",
    "    'what is your favorite bird', 'what is your favorite insect', 'what is your favorite fish', 'what is your favorite ocean',\n",
    "    'what is your favorite mountain', 'what is your favorite river', 'what is your favorite lake', 'what is your favorite city',\n",
    "    'what is your favorite country', 'what is your favorite continent', 'what is your favorite planet', 'what is your favorite galaxy',\n",
    "    'what is your favorite universe', 'what is your favorite language', 'what is your favorite word', 'what is your favorite letter'\n",
    "]\n",
    "\n",
    "output_lang = [\n",
    "    'Merhaba', 'Şimdilik hoşça kal', 'Teşekkürler', 'Evet', 'Hayır', 'Lütfen',\n",
    "    'Adın ne', 'Nasılsın', 'Ben iyiyim', 'Bana yardım edebilir misin',\n",
    "    'Neredesin', 'Doğum günün ne zaman', 'Seni seviyorum', 'Sen çok güzelsin',\n",
    "    'Seni özledim', 'Kaç yaşındasın', 'Ne yapmaktan hoşlanırsın', 'Saat kaç',\n",
    "    'Ne kadar tutar', 'Ne yapıyorsun', 'Günün nasıldı',\n",
    "    'Üzgünüm', 'Mesleğin ne', 'Sen kimsin', 'En sevdiğin renk nedir',\n",
    "    'En sevdiğin yemek nedir', 'Hobin nedir', 'Ne yapmak istersin',\n",
    "    'Hangi ülkedesin', 'Nerede yaşıyorsun', 'Kaç yaşındasın', 'Telefon numaran nedir',\n",
    "    'Ne düşünüyorsun', 'En sevdiğin kitap nedir', 'En sevdiğin film nedir', 'En sevdiğin müzik nedir',\n",
    "    'Hayalın ne', 'Planın ne', 'Hedefin ne', 'Dinin ne',\n",
    "    'E-posta adresin nedir', 'Web siten nedir', 'Şirketin nedir', 'Eğitimin ne',\n",
    "    'Deneyimin nedir', 'Adresin nedir', 'Kişiliğin ne', 'Tutumun ne',\n",
    "    'Hangi becerilere sahipsin', 'Hangi güçlü yönlerin var', 'Hangi zayıf yönlerin var', 'Hangi zorluklarla karşılaşıyorsun',\n",
    "    'Hangi başarılarına gurur duyuyorsun', 'Hangi konular seni ilgilendiriyor', 'En sevdiğin spor nedir', 'En sevdiğin hobi nedir',\n",
    "    'En sevdiğin yer nedir', 'En sevdiğin hayvan nedir', 'En sevdiğin ders nedir', 'En sevdiğin iş nedir',\n",
    "    'En sevdiğin karakter kimdir', 'En sevdiğin alıntı nedir', 'En sevdiğin oyun nedir', 'En sevdiğin web sitesi nedir',\n",
    "    'En sevdiğin içecek nedir', 'En sevdiğin mevsim nedir', 'En sevdiğin tatil nedir', 'En sevdiğin restoran nedir',\n",
    "    'En sevdiğin şarkı nedir', 'En sevdiğin şarkıcı kim', 'En sevdiğin aktör kimdir', 'En sevdiğin aktris kimdir',\n",
    "    'En sevdiğin müzisyen kimdir', 'En sevdiğin grup hangisi', 'En sevdiğin sanatçı kim', 'En sevdiğin tasarımcı kim',\n",
    "    'En sevdiğin marka nedir', 'En sevdiğin araba nedir', 'En sevdiğin renk nedir', 'En sevdiğin çiçek nedir', \n",
    "    'En sevdiğin ağaç nedir', 'En sevdiğin meyve nedir', 'En sevdiğin sebze nedir', 'En sevdiğin hayvan nedir', \n",
    "    'En sevdiğin kuş nedir', 'En sevdiğin böcek nedir', 'En sevdiğin balık nedir', 'En sevdiğin okyanus nedir', \n",
    "    'En sevdiğin dağ nedir', 'En sevdiğin nehir nedir', 'En sevdiğin göl nedir', 'En sevdiğin şehir nedir', \n",
    "    'En sevdiğin ülke nedir', 'En sevdiğin kıta nedir', 'En sevdiğin gezegen nedir', 'En sevdiğin galaksi nedir', \n",
    "    'En sevdiğin evren nedir', 'En sevdiğin dil nedir', 'En sevdiğin kelime nedir', 'En sevdiğin harf nedir']\n",
    "\n",
    "print(len(input_lang),len(output_lang))\n"
   ]
  },
  {
   "cell_type": "code",
   "execution_count": 88,
   "id": "20bbcc47",
   "metadata": {},
   "outputs": [
    {
     "name": "stdout",
     "output_type": "stream",
     "text": [
      "{'city': 0, 'drink': 1, 'are': 2, 'can': 3, 'day': 4, 'me': 5, 'personality': 6, 'galaxy': 7, 'weakness': 8, 'when': 9, 'to': 10, 'character': 11, 'artist': 12, 'singer': 13, 'designer': 14, 'it': 15, 'word': 16, 'number': 17, 'the': 18, 'achievement': 19, 'quote': 20, 'now': 21, 'tree': 22, 'insect': 23, 'food': 24, 'interest': 25, 'name': 26, 'company': 27, 'musician': 28, 'doing': 29, 'actress': 30, 'game': 31, 'ocean': 32, 'what': 33, 'universe': 34, 'attitude': 35, 'hobby': 36, 'experience': 37, 'letter': 38, 'fish': 39, 'animal': 40, 'phone': 41, 'dream': 42, 'strength': 43, 'job': 44, 'country': 45, 'do': 46, 'continent': 47, 'planet': 48, 'for': 49, 'is': 50, 'fruit': 51, 'subject': 52, 'sorry': 53, 'does': 54, 'place': 55, 'thanks': 56, 'old': 57, 'much': 58, 'live': 59, 'season': 60, 'hello': 61, 'mountain': 62, 'restaurant': 63, 'there': 64, 'please': 65, 'like': 66, 'religion': 67, 'car': 68, 'i': 69, 'where': 70, 'holiday': 71, 'song': 72, 'love': 73, 'plan': 74, 'cost': 75, 'yes': 76, 'you': 77, 'address': 78, 'birthday': 79, 'flower': 80, 'language': 81, 'am': 82, 'favorite': 83, 'was': 84, 'think': 85, 'band': 86, 'bird': 87, 'education': 88, 'color': 89, 'skill': 90, 'email': 91, 'how': 92, 'vegetable': 93, 'lake': 94, 'river': 95, 'no': 96, 'want': 97, 'age': 98, 'actor': 99, 'help': 100, 'time': 101, 'challenge': 102, 'book': 103, 'website': 104, 'goal': 105, 'goodbye': 106, 'good': 107, 'movie': 108, 'sport': 109, 'music': 110, 'brand': 111, 'beautiful': 112, 'miss': 113, 'your': 114} 115\n",
      "{'kal': 0, 'hoşlanırsın': 1, 'grup': 2, 'evet': 3, 'lütfen': 4, 'mesleğin': 5, 'teşekkürler': 6, 'ülke': 7, 'konular': 8, 'hobin': 9, 'kitap': 10, 'kimsin': 11, 'telefon': 12, 'şarkı': 13, 'hangi': 14, 'tutar': 15, 'ders': 16, 'misin': 17, 'içecek': 18, 'yaşıyorsun': 19, 'sahipsin': 20, 'şimdilik': 21, 'neredesin': 22, 'duyuyorsun': 23, 'dil': 24, 'kim': 25, 'web': 26, 'tatil': 27, 'hedefin': 28, 'doğum': 29, 'en': 30, 'nedir': 31, 'ülkedesin': 32, 'seviyorum': 33, 'ben': 34, 'renk': 35, 'yardım': 36, 'şarkıcı': 37, 'ağaç': 38, 'yemek': 39, 'eğitimin': 40, 'alıntı': 41, 'restoran': 42, 'aktör': 43, 'iyiyim': 44, 'araba': 45, 'hobi': 46, 'nehir': 47, 'üzgünüm': 48, 'günün': 49, 'böcek': 50, 'yapmak': 51, 'hayır': 52, 'kıta': 53, 'e-posta': 54, 'seni': 55, 'kişiliğin': 56, 'hayvan': 57, 'edebilir': 58, 'var': 59, 'yönlerin': 60, 'tasarımcı': 61, 'mevsim': 62, 'özledim': 63, 'sen': 64, 'müzik': 65, 'dağ': 66, 'göl': 67, 'tutumun': 68, 'adın': 69, 'sitesi': 70, 'şirketin': 71, 'nasıldı': 72, 'becerilere': 73, 'harf': 74, 'yapmaktan': 75, 'deneyimin': 76, 'siten': 77, 'ilgilendiriyor': 78, 'güçlü': 79, 'sebze': 80, 'kaç': 81, 'yapıyorsun': 82, 'planın': 83, 'merhaba': 84, 'çok': 85, 'saat': 86, 'nasılsın': 87, 'kuş': 88, 'galaksi': 89, 'adresin': 90, 'güzelsin': 91, 'sevdiğin': 92, 'aktris': 93, 'meyve': 94, 'gezegen': 95, 'marka': 96, 'başarılarına': 97, 'hangisi': 98, 'okyanus': 99, 'yer': 100, 'kadar': 101, 'numaran': 102, 'düşünüyorsun': 103, 'zayıf': 104, 'oyun': 105, 'dinin': 106, 'hayalın': 107, 'gurur': 108, 'spor': 109, 'istersin': 110, 'nerede': 111, 'müzisyen': 112, 'karşılaşıyorsun': 113, 'zaman': 114, 'yaşındasın': 115, 'evren': 116, 'bana': 117, 'kimdir': 118, 'iş': 119, 'ne': 120, 'film': 121, 'karakter': 122, 'balık': 123, 'hoşça': 124, 'çiçek': 125, 'şehir': 126, 'sanatçı': 127, 'zorluklarla': 128, 'kelime': 129} 130\n"
     ]
    }
   ],
   "source": [
    "# Tokenize the input and output sequences into words\n",
    "input_words = [nltk.word_tokenize(seq.lower()) for seq in input_lang]\n",
    "output_words = [nltk.word_tokenize(seq.lower()) for seq in output_lang]\n",
    "\n",
    "#print(input_words)\n",
    "\n",
    "# Define a dictionary to map words to indices and vice versa\n",
    "input_word_to_idx = {word: i for i, word in enumerate(set([word for seq in input_words for word in seq]))}\n",
    "input_idx_to_word = {i: word for word, i in input_word_to_idx.items()}\n",
    "\n",
    "output_word_to_idx = {word: i for i, word in enumerate(set([word for seq in output_words for word in seq]))}\n",
    "output_idx_to_word = {i: word for word, i in output_word_to_idx.items()}\n",
    "\n",
    "print(input_word_to_idx,len(input_word_to_idx))\n",
    "\n",
    "print(output_word_to_idx,len(output_word_to_idx))"
   ]
  },
  {
   "cell_type": "code",
   "execution_count": 89,
   "id": "b327772d",
   "metadata": {},
   "outputs": [
    {
     "name": "stdout",
     "output_type": "stream",
     "text": [
      "hello there --> Merhaba\n",
      "goodbye for now --> Şimdilik hoşça kal\n",
      "thanks --> Teşekkürler\n",
      "yes --> Evet\n",
      "no --> Hayır\n",
      "please --> Lütfen\n",
      "what is your name --> Adın ne\n",
      "how are you --> Nasılsın\n",
      "i am good --> Ben iyiyim\n",
      "can you help me --> Bana yardım edebilir misin\n",
      "where are you --> Neredesin\n",
      "when is your birthday --> Doğum günün ne zaman\n",
      "i love you --> Seni seviyorum\n",
      "you are beautiful --> Sen çok güzelsin\n",
      "i miss you --> Seni özledim\n",
      "how old are you --> Kaç yaşındasın\n",
      "what do you like --> Ne yapmaktan hoşlanırsın\n",
      "what is the time --> Saat kaç\n",
      "how much does it cost --> Ne kadar tutar\n",
      "what are you doing --> Ne yapıyorsun\n",
      "how was your day --> Günün nasıldı\n",
      "i am sorry --> Üzgünüm\n",
      "what is your job --> Mesleğin ne\n",
      "what are you --> Sen kimsin\n",
      "what is your favorite color --> En sevdiğin renk nedir\n",
      "what is your favorite food --> En sevdiğin yemek nedir\n",
      "what is your hobby --> Hobin nedir\n",
      "what do you want to do --> Ne yapmak istersin\n",
      "what is your country --> Hangi ülkedesin\n",
      "where do you live --> Nerede yaşıyorsun\n",
      "what is your age --> Kaç yaşındasın\n",
      "what is your phone number --> Telefon numaran nedir\n",
      "what do you think --> Ne düşünüyorsun\n",
      "what is your favorite book --> En sevdiğin kitap nedir\n",
      "what is your favorite movie --> En sevdiğin film nedir\n",
      "what is your favorite music --> En sevdiğin müzik nedir\n",
      "what is your dream --> Hayalın ne\n",
      "what is your plan --> Planın ne\n",
      "what is your goal --> Hedefin ne\n",
      "what is your religion --> Dinin ne\n",
      "what is your email --> E-posta adresin nedir\n",
      "what is your website --> Web siten nedir\n",
      "what is your company --> Şirketin nedir\n",
      "what is your education --> Eğitimin ne\n",
      "what is your experience --> Deneyimin nedir\n",
      "what is your address --> Adresin nedir\n",
      "what is your personality --> Kişiliğin ne\n",
      "what is your attitude --> Tutumun ne\n",
      "what is your skill --> Hangi becerilere sahipsin\n",
      "what is your strength --> Hangi güçlü yönlerin var\n",
      "what is your weakness --> Hangi zayıf yönlerin var\n",
      "what is your challenge --> Hangi zorluklarla karşılaşıyorsun\n",
      "what is your achievement --> Hangi başarılarına gurur duyuyorsun\n",
      "what is your interest --> Hangi konular seni ilgilendiriyor\n",
      "what is your favorite sport --> En sevdiğin spor nedir\n",
      "what is your favorite hobby --> En sevdiğin hobi nedir\n",
      "what is your favorite place --> En sevdiğin yer nedir\n",
      "what is your favorite animal --> En sevdiğin hayvan nedir\n",
      "what is your favorite subject --> En sevdiğin ders nedir\n",
      "what is your favorite job --> En sevdiğin iş nedir\n",
      "what is your favorite character --> En sevdiğin karakter kimdir\n",
      "what is your favorite quote --> En sevdiğin alıntı nedir\n",
      "what is your favorite game --> En sevdiğin oyun nedir\n",
      "what is your favorite website --> En sevdiğin web sitesi nedir\n",
      "what is your favorite drink --> En sevdiğin içecek nedir\n",
      "what is your favorite season --> En sevdiğin mevsim nedir\n",
      "what is your favorite holiday --> En sevdiğin tatil nedir\n",
      "what is your favorite restaurant --> En sevdiğin restoran nedir\n",
      "what is your favorite song --> En sevdiğin şarkı nedir\n",
      "what is your favorite singer --> En sevdiğin şarkıcı kim\n",
      "what is your favorite actor --> En sevdiğin aktör kimdir\n",
      "what is your favorite actress --> En sevdiğin aktris kimdir\n",
      "what is your favorite musician --> En sevdiğin müzisyen kimdir\n",
      "what is your favorite band --> En sevdiğin grup hangisi\n",
      "what is your favorite artist --> En sevdiğin sanatçı kim\n",
      "what is your favorite designer --> En sevdiğin tasarımcı kim\n",
      "what is your favorite brand --> En sevdiğin marka nedir\n",
      "what is your favorite car --> En sevdiğin araba nedir\n",
      "what is your favorite color --> En sevdiğin renk nedir\n",
      "what is your favorite flower --> En sevdiğin çiçek nedir\n",
      "what is your favorite tree --> En sevdiğin ağaç nedir\n",
      "what is your favorite fruit --> En sevdiğin meyve nedir\n",
      "what is your favorite vegetable --> En sevdiğin sebze nedir\n",
      "what is your favorite animal --> En sevdiğin hayvan nedir\n",
      "what is your favorite bird --> En sevdiğin kuş nedir\n",
      "what is your favorite insect --> En sevdiğin böcek nedir\n",
      "what is your favorite fish --> En sevdiğin balık nedir\n",
      "what is your favorite ocean --> En sevdiğin okyanus nedir\n",
      "what is your favorite mountain --> En sevdiğin dağ nedir\n",
      "what is your favorite river --> En sevdiğin nehir nedir\n",
      "what is your favorite lake --> En sevdiğin göl nedir\n",
      "what is your favorite city --> En sevdiğin şehir nedir\n",
      "what is your favorite country --> En sevdiğin ülke nedir\n",
      "what is your favorite continent --> En sevdiğin kıta nedir\n",
      "what is your favorite planet --> En sevdiğin gezegen nedir\n",
      "what is your favorite galaxy --> En sevdiğin galaksi nedir\n",
      "what is your favorite universe --> En sevdiğin evren nedir\n",
      "what is your favorite language --> En sevdiğin dil nedir\n",
      "what is your favorite word --> En sevdiğin kelime nedir\n",
      "what is your favorite letter --> En sevdiğin harf nedir\n",
      "[(tensor([125, 130]), tensor([ 1, 85,  2])), (tensor([231, 101,  51]), tensor([  1, 247, 241,   4,   2])), (tensor([110]), tensor([ 1, 23,  2])), (tensor([163]), tensor([  1, 183,   2])), (tensor([208]), tensor([ 1, 31,  2])), (tensor([131]), tensor([  1, 254,   2])), (tensor([ 71, 102, 253,  61]), tensor([  1, 199, 229,   2])), (tensor([197,  13, 164]), tensor([  1, 146,   2])), (tensor([143, 171, 232]), tensor([  1, 115,  95,   2])), (tensor([ 14, 164, 214,  17]), tensor([  1,   5,  73, 124,  36,   2])), (tensor([145,  13, 164]), tensor([  1, 103,   2])), (tensor([ 25, 102, 253, 166]), tensor([  1, 236, 112, 229, 222,   2])), (tensor([143, 154, 164]), tensor([  1, 240,  69,   2])), (tensor([164,  13, 249]), tensor([  1, 111, 162, 176,   2])), (tensor([143, 250, 164]), tensor([  1, 240, 134,   2])), (tensor([197, 113,  13, 164]), tensor([  1, 210, 223,   2])), (tensor([ 71,  93, 164, 135]), tensor([  1, 200, 148,   6,   2])), (tensor([ 71, 102,  46, 218]), tensor([  1, 244, 159,   2])), (tensor([197, 118, 108,  41, 160]), tensor([  1, 200, 198,  33,   2])), (tensor([ 71,  13, 164,  64]), tensor([  1, 200, 161,   2])), (tensor([197, 174, 253,  16]), tensor([  1,  84, 144,   2])), (tensor([143, 171, 107]), tensor([  1, 234,   2])), (tensor([ 71, 102, 253,  91]), tensor([  1, 151, 229,   2])), (tensor([ 71,  13, 164]), tensor([  1, 111,  26,   2])), (tensor([ 71, 102, 253, 172, 190]), tensor([  1,  37, 177,  72,  65,   2])), (tensor([ 71, 102, 253, 172,  57]), tensor([  1,  37, 177,  81,  65,   2])), (tensor([ 71, 102, 253,  77]), tensor([ 1, 59, 65,  2])), (tensor([ 71,  93, 164, 209,  27,  93]), tensor([  1, 200, 114, 217,   2])), (tensor([ 71, 102, 253,  92]), tensor([  1, 188,  66,   2])), (tensor([145,  93, 164, 119]), tensor([ 1,  7, 42,  2])), (tensor([ 71, 102, 253, 212]), tensor([  1, 210, 223,   2])), (tensor([ 71, 102, 253,  88,  45]), tensor([  1, 201, 202,  65,   2])), (tensor([ 71,  93, 164, 178]), tensor([  1, 200, 203,   2])), (tensor([ 71, 102, 253, 172, 224]), tensor([  1,  37, 177,  24,  65,   2])), (tensor([ 71, 102, 253, 172, 237]), tensor([  1,  37, 177, 233,  65,   2])), (tensor([ 71, 102, 253, 172, 243]), tensor([  1,  37, 177, 136,  65,   2])), (tensor([ 71, 102, 253,  89]), tensor([  1, 180, 229,   2])), (tensor([ 71, 102, 253, 157]), tensor([  1,   8, 229,   2])), (tensor([ 71, 102, 253, 228]), tensor([  1, 169, 229,   2])), (tensor([ 71, 102, 253, 139]), tensor([  1,  30, 229,   2])), (tensor([ 71, 102, 253, 194]), tensor([  1,  34, 175,  65,   2])), (tensor([ 71, 102, 253, 225]), tensor([  1, 195, 152,  65,   2])), (tensor([ 71, 102, 253,  62]), tensor([ 1, 48, 65,  2])), (tensor([ 71, 102, 253, 189]), tensor([  1, 121, 229,   2])), (tensor([ 71, 102, 253,  79]), tensor([ 1, 15, 65,  2])), (tensor([ 71, 102, 253, 165]), tensor([  1, 140,  65,   2])), (tensor([ 71, 102, 253,  18]), tensor([  1,  96, 229,   2])), (tensor([ 71, 102, 253,  75]), tensor([  1,  11, 229,   2])), (tensor([ 71, 102, 253, 192]), tensor([  1, 188, 147,  43,   2])), (tensor([ 71, 102, 253,  90]), tensor([  1, 188, 156, 127, 126,   2])), (tensor([ 71, 102, 253,  22]), tensor([  1, 188, 207, 127, 126,   2])), (tensor([ 71, 102, 253, 219]), tensor([  1, 188, 248, 221,   2])), (tensor([ 71, 102, 253,  47]), tensor([  1, 188, 187, 215,  49,   2])), (tensor([ 71, 102, 253,  60]), tensor([  1, 188,  21, 120, 153,   2])), (tensor([ 71, 102, 253, 172, 238]), tensor([  1,  37, 177, 216,  65,   2])), (tensor([ 71, 102, 253, 172,  77]), tensor([  1,  37, 177, 100,  65,   2])), (tensor([ 71, 102, 253, 172, 109]), tensor([  1,  37, 177, 196,  65,   2])), (tensor([ 71, 102, 253, 172,  86]), tensor([  1,  37, 177, 123,  65,   2])), (tensor([ 71, 102, 253, 172, 106]), tensor([  1,  37, 177,  35,  65,   2])), (tensor([ 71, 102, 253, 172,  91]), tensor([  1,  37, 177, 230,  65,   2])), (tensor([ 71, 102, 253, 172,  28]), tensor([  1,  37, 177, 235, 227,   2])), (tensor([ 71, 102, 253, 172,  50]), tensor([  1,  37, 177,  82,  65,   2])), (tensor([ 71, 102, 253, 172,  68]), tensor([  1,  37, 177, 211,  65,   2])), (tensor([ 71, 102, 253, 172, 225]), tensor([  1,  37, 177,  54, 142,  65,   2])), (tensor([ 71, 102, 253, 172,  12]), tensor([  1,  37, 177,  38,  65,   2])), (tensor([ 71, 102, 253, 172, 122]), tensor([  1,  37, 177, 133,  65,   2])), (tensor([ 71, 102, 253, 172, 150]), tensor([  1,  37, 177,  58,  65,   2])), (tensor([ 71, 102, 253, 172, 128]), tensor([  1,  37, 177,  83,  65,   2])), (tensor([ 71, 102, 253, 172, 155]), tensor([  1,  37, 177,  29,  65,   2])), (tensor([ 71, 102, 253, 172,  39]), tensor([  1,  37, 177,  76,  53,   2])), (tensor([ 71, 102, 253, 172, 213]), tensor([  1,  37, 177,  94, 227,   2])), (tensor([ 71, 102, 253, 172,  67]), tensor([  1,  37, 177, 179, 227,   2])), (tensor([ 71, 102, 253, 172,  63]), tensor([  1,  37, 177, 220, 227,   2])), (tensor([ 71, 102, 253, 172, 181]), tensor([  1,  37, 177,   9, 191,   2])), (tensor([ 71, 102, 253, 172,  32]), tensor([  1,  37, 177, 246,  53,   2])), (tensor([ 71, 102, 253, 172,  40]), tensor([  1,  37, 177, 132,  53,   2])), (tensor([ 71, 102, 253, 172, 251]), tensor([  1,  37, 177, 186,  65,   2])), (tensor([ 71, 102, 253, 172, 141]), tensor([  1,  37, 177,  97,  65,   2])), (tensor([ 71, 102, 253, 172, 190]), tensor([  1,  37, 177,  72,  65,   2])), (tensor([ 71, 102, 253, 172, 167]), tensor([  1,  37, 177, 242,  65,   2])), (tensor([ 71, 102, 253, 172,  55]), tensor([  1,  37, 177,  78,  65,   2])), (tensor([ 71, 102, 253, 172, 105]), tensor([  1,  37, 177, 182,  65,   2])), (tensor([ 71, 102, 253, 172, 204]), tensor([  1,  37, 177, 158,  65,   2])), (tensor([ 71, 102, 253, 172,  86]), tensor([  1,  37, 177, 123,  65,   2])), (tensor([ 71, 102, 253, 172, 184]), tensor([  1,  37, 177, 170,  65,   2])), (tensor([ 71, 102, 253, 172,  56]), tensor([  1,  37, 177, 116,  65,   2])), (tensor([ 71, 102, 253, 172,  87]), tensor([  1,  37, 177, 239,  65,   2])), (tensor([ 71, 102, 253, 172,  70]), tensor([  1,  37, 177, 193,  65,   2])), (tensor([ 71, 102, 253, 172, 129]), tensor([  1,  37, 177, 137,  65,   2])), (tensor([ 71, 102, 253, 172, 206]), tensor([  1,  37, 177, 104,  65,   2])), (tensor([ 71, 102, 253, 172, 205]), tensor([  1,  37, 177, 138,  65,   2])), (tensor([ 71, 102, 253, 172,  10]), tensor([  1,  37, 177, 245,  65,   2])), (tensor([ 71, 102, 253, 172,  92]), tensor([  1,  37, 177,  20,  65,   2])), (tensor([ 71, 102, 253, 172,  98]), tensor([  1,  37, 177, 117,  65,   2])), (tensor([ 71, 102, 253, 172,  99]), tensor([  1,  37, 177, 185,  65,   2])), (tensor([ 71, 102, 253, 172,  19]), tensor([  1,  37, 177, 173,  65,   2])), (tensor([ 71, 102, 253, 172,  74]), tensor([  1,  37, 177, 226,  65,   2])), (tensor([ 71, 102, 253, 172, 168]), tensor([  1,  37, 177,  52,  65,   2])), (tensor([ 71, 102, 253, 172,  44]), tensor([  1,  37, 177, 252,  65,   2])), (tensor([ 71, 102, 253, 172,  80]), tensor([  1,  37, 177, 149,  65,   2]))]\n"
     ]
    }
   ],
   "source": [
    "import torch\n",
    "import torch.nn as nn\n",
    "import torch.optim as optim\n",
    "import numpy as np\n",
    "\n",
    "device='cpu'\n",
    "MAX_LENGTH=10\n",
    "\n",
    "# Define the input and output languages\n",
    "#input_lang = ['I am', 'You are', 'He is', 'She is', 'We are', 'They are', 'This is', 'That is', 'It is', 'The cat is black', 'The dog is brown']\n",
    "#output_lang = ['Ben', 'Sen', 'O', 'O', 'Biz', 'Onlar', 'Bu', 'Şu', 'O', 'Kedi siyahdır', 'Köpek kahverengidir']\n",
    "\n",
    "# Define a dictionary to map words to indices and vice versa\n",
    "#word_to_idx = {word: i for i, word in enumerate(set(input_lang + output_lang))}\n",
    "#idx_to_word = {i: word for i, word in enumerate(set(input_lang + output_lang))}\n",
    "\n",
    "# Define the function to convert a sentence to a tensor of word indices\n",
    "def sentence_to_tensor(sentence, word_to_idx, device):\n",
    "    tensor = torch.tensor([word_to_idx[word.lower()] for word in sentence.split()], dtype=torch.long, device=device).view(-1, 1)\n",
    "    return tensor\n",
    "\n",
    "\n",
    "pairs = list(zip(input_lang, output_lang))\n",
    "vocab = set()\n",
    "# Build vocabulary\n",
    "for pair in pairs:\n",
    "    vocab.update(pair[0].split())\n",
    "    vocab.update(pair[1].split())\n",
    "\n",
    "\n",
    "\n",
    "# Create word to index and index to word mappings\n",
    "word_to_idx = {'<PAD>': 0, '<SOS>': 1, '<EOS>': 2, '<UNK>': 3}\n",
    "idx_to_word = {0: '<PAD>', 1: '<SOS>', 2: '<EOS>', 3: '<UNK>'}\n",
    "\n",
    "\n",
    "for word in vocab:\n",
    "    if word not in word_to_idx:\n",
    "        idx = len(word_to_idx)\n",
    "        word_to_idx[word] = idx\n",
    "        idx_to_word[idx] = word\n",
    "\n",
    "# Define the dataset\n",
    "dataset = []\n",
    "for input_sent, target_sent in pairs:\n",
    "    print(input_sent,'-->',target_sent)\n",
    "    \n",
    "    # Convert sentences to numerical tensors\n",
    "    input_tensor = torch.tensor([word_to_idx.get(word, word_to_idx['<UNK>']) for word in input_sent.split()],dtype=torch.long, device=device)\n",
    "    output_tensor = torch.tensor([word_to_idx['<SOS>']] + [word_to_idx.get(word, word_to_idx['<UNK>']) for word in target_sent.split()] + [word_to_idx['<EOS>']],dtype=torch.long, device=device)\n",
    "    dataset.append((input_tensor, output_tensor))\n",
    "    \n",
    "print(dataset)\n",
    "\n",
    "# Define the Encoder class\n",
    "class Encoder(nn.Module):\n",
    "    def __init__(self, input_size, hidden_size, num_layers=1):\n",
    "        super(Encoder, self).__init__()\n",
    "        self.hidden_size = hidden_size\n",
    "        self.num_layers = num_layers\n",
    "        self.embedding = nn.Embedding(input_size, hidden_size)\n",
    "        self.lstm = nn.LSTM(hidden_size, hidden_size, num_layers)\n",
    "\n",
    "    def forward(self, input, hidden):\n",
    "        embedded = self.embedding(input).view(1, 1, -1)\n",
    "        output, hidden = self.lstm(embedded, hidden)\n",
    "        return output, hidden\n",
    "\n",
    "    def init_hidden(self):\n",
    "        return (torch.zeros(self.num_layers, 1, self.hidden_size, device=device),\n",
    "                torch.zeros(self.num_layers, 1, self.hidden_size, device=device))\n",
    "\n",
    "# Define the Decoder class\n",
    "class Decoder(nn.Module):\n",
    "    def __init__(self, hidden_size, output_size, num_layers=1):\n",
    "        super(Decoder, self).__init__()\n",
    "        self.hidden_size = hidden_size\n",
    "        self.num_layers = num_layers\n",
    "        self.embedding = nn.Embedding(output_size, hidden_size)\n",
    "        self.lstm = nn.LSTM(hidden_size, hidden_size, num_layers)\n",
    "        self.out = nn.Linear(hidden_size, output_size)\n",
    "        self.softmax = nn.LogSoftmax(dim=1)\n",
    "\n",
    "    def forward(self, input, hidden):\n",
    "        output = self.embedding(input).view(1, 1, -1)\n",
    "        output, hidden = self.lstm(output, hidden)\n",
    "        output = self.softmax(self.out(output[0]))\n",
    "        return output, hidden\n",
    "\n",
    "    def init_hidden(self):\n",
    "        return (torch.zeros(self.num_layers, 1, self.hidden_size, device=device),\n",
    "                torch.zeros(self.num_layers, 1, self.hidden_size, device=device))\n",
    "    \n"
   ]
  },
  {
   "cell_type": "code",
   "execution_count": null,
   "id": "7ba74757",
   "metadata": {},
   "outputs": [],
   "source": []
  },
  {
   "cell_type": "code",
   "execution_count": 90,
   "id": "a7a05b7e",
   "metadata": {},
   "outputs": [],
   "source": [
    "def train(input_tensor, target_tensor, encoder, decoder, encoder_optimizer, decoder_optimizer, criterion, max_length):\n",
    "    encoder_hidden = encoder.init_hidden()\n",
    "\n",
    "    encoder_optimizer.zero_grad()\n",
    "    decoder_optimizer.zero_grad()\n",
    "    \n",
    "    #print(input_tensor.shape)\n",
    "\n",
    "    input_length = input_tensor.size(0)\n",
    "    #print(input_length,input_tensor.shape)\n",
    "    target_length = target_tensor.size(0)\n",
    "\n",
    "    encoder_outputs = torch.zeros(max_length, encoder.hidden_size, device=device)\n",
    "\n",
    "    loss = 0\n",
    "\n",
    "    for ei in range(input_length):\n",
    "        encoder_output, encoder_hidden = encoder(input_tensor[ei], encoder_hidden)\n",
    "        encoder_outputs[ei] = encoder_output[0, 0]\n",
    "\n",
    "    decoder_input = torch.tensor([[word_to_idx['<SOS>']]], device=device)\n",
    "\n",
    "    decoder_hidden = encoder_hidden\n",
    "\n",
    "    for di in range(target_length):\n",
    "        decoder_output, decoder_hidden = decoder(decoder_input, decoder_hidden)\n",
    "        loss += criterion(decoder_output, target_tensor[di])\n",
    "        decoder_input = target_tensor[di]\n",
    "\n",
    "    loss.backward()\n",
    "\n",
    "    encoder_optimizer.step()\n",
    "    decoder_optimizer.step()\n",
    "\n",
    "    return loss.item() / target_length\n"
   ]
  },
  {
   "cell_type": "code",
   "execution_count": 101,
   "id": "a05efe40",
   "metadata": {},
   "outputs": [],
   "source": [
    "from torch.utils.data import DataLoader\n",
    "from torch.utils.data import DataLoader\n",
    "import random\n",
    "import torch.nn.functional as F\n",
    "\n",
    "criterion = nn.CrossEntropyLoss()\n",
    "learning_rate=0.01\n",
    "\n",
    "encoder=Encoder(len(word_to_idx),512)\n",
    "decoder=Decoder(512,len(word_to_idx))#change it to Decoder do diable attention\n",
    "loss=[]\n",
    "# Define optimizer\n",
    "encoder_optimizer = optim.Adam(encoder.parameters(), lr=learning_rate)\n",
    "decoder_optimizer = optim.Adam(decoder.parameters(), lr=learning_rate)\n",
    "for epoch in range(20):\n",
    "    for i_tensor,o_tensor in dataset:\n",
    "        loss.append(train(i_tensor.unsqueeze(1),o_tensor.unsqueeze(1),encoder,decoder,encoder_optimizer,decoder_optimizer,criterion,7))\n",
    "    \n",
    "    \n",
    "    "
   ]
  },
  {
   "cell_type": "code",
   "execution_count": 104,
   "id": "24779993",
   "metadata": {},
   "outputs": [
    {
     "data": {
      "text/plain": [
       "[<matplotlib.lines.Line2D at 0x7ff6fd7447f0>]"
      ]
     },
     "execution_count": 104,
     "metadata": {},
     "output_type": "execute_result"
    },
    {
     "data": {
      "image/png": "[encoded data removed]",
      "text/plain": [
       "<Figure size 432x288 with 1 Axes>"
      ]
     },
     "metadata": {
      "needs_background": "light"
     },
     "output_type": "display_data"
    }
   ],
   "source": [
    "import matplotlib.pyplot as plt\n",
    "plt.plot(loss)\n",
    "#512"
   ]
  },
  {
   "cell_type": "code",
   "execution_count": 6,
   "id": "ed85e923",
   "metadata": {},
   "outputs": [
    {
     "data": {
      "text/plain": [
       "[<matplotlib.lines.Line2D at 0x7ff6f97cf910>]"
      ]
     },
     "execution_count": 6,
     "metadata": {},
     "output_type": "execute_result"
    },
    {
     "data": {
      "image/png": "[encoded data removed]",
      "text/plain": [
       "<Figure size 432x288 with 1 Axes>"
      ]
     },
     "metadata": {
      "needs_background": "light"
     },
     "output_type": "display_data"
    }
   ],
   "source": [
    "import matplotlib.pyplot as plt\n",
    "plt.plot(loss)\n",
    "#512"
   ]
  },
  {
   "cell_type": "code",
   "execution_count": 7,
   "id": "20a2aa22",
   "metadata": {},
   "outputs": [
    {
     "data": {
      "text/plain": [
       "[<matplotlib.lines.Line2D at 0x7fec63ae6fa0>]"
      ]
     },
     "execution_count": 7,
     "metadata": {},
     "output_type": "execute_result"
    },
    {
     "data": {
      "image/png": "[encoded data removed]",
      "text/plain": [
       "<Figure size 432x288 with 1 Axes>"
      ]
     },
     "metadata": {
      "needs_background": "light"
     },
     "output_type": "display_data"
    }
   ],
   "source": [
    "import matplotlib.pyplot as plt\n",
    "plt.plot(loss)\n",
    "\n",
    "#32"
   ]
  },
  {
   "cell_type": "markdown",
   "id": "4dccbcb1",
   "metadata": {},
   "source": [
    "# Evaluate"
   ]
  },
  {
   "cell_type": "code",
   "execution_count": 112,
   "id": "c11b2a86",
   "metadata": {},
   "outputs": [
    {
     "name": "stdout",
     "output_type": "stream",
     "text": [
      "<SOS> you <EOS>\n",
      "[3, '<SOS>', 'Ne', 'yapmaktan', 'hoşlanırsın', '<EOS>']\n"
     ]
    }
   ],
   "source": [
    "\n",
    "# Define the input sequence\n",
    "input_seq = 'you'\n",
    "input_seq='<SOS> '+input_seq+' <EOS>'\n",
    "print(input_seq)\n",
    "input_seq=[word_to_idx.get(word, word_to_idx['<UNK>']) for word in input_seq.split()]\n",
    "#print(input_seq)\n",
    "\n",
    "# Convert the input sequence to a tensor\n",
    "input_tensor = torch.tensor(input_seq, dtype=torch.long, device=device).unsqueeze(1)#.view(-1, 1)\n",
    "input_length = input_tensor.size(0)\n",
    "\n",
    "#print(input_tensor,input_tensor.shape)\n",
    "\n",
    "# Initialize the encoder hidden state\n",
    "encoder_hidden = encoder.init_hidden()\n",
    "#print(len(encoder_hidden))\n",
    "\n",
    "# Encode the input sequence\n",
    "#encoder_outputs, encoder_hidden = encoder(input_tensor, encoder_hidden)\n",
    "encoder_outputs = torch.zeros(max_length, encoder.hidden_size, device=device)\n",
    "\n",
    "for ei in range(input_length):\n",
    "    encoder_output, encoder_hidden = encoder(input_tensor[ei], encoder_hidden)\n",
    "    encoder_outputs[ei] = encoder_output[0, 0]\n",
    "\n",
    "\n",
    "# Initialize the decoder input with the SOS token\n",
    "decoder_input = torch.tensor([[word_to_idx['<SOS>']]], device=device)\n",
    "\n",
    "\n",
    "# Initialize the decoder hidden state with the encoder final hidden state\n",
    "decoder_hidden = encoder_hidden\n",
    "\n",
    "# Initialize the output sequence with the SOS token\n",
    "output_seq = ['<SOS>']\n",
    "\n",
    "# Decode the input sequence\n",
    "for i in range(max_length):\n",
    "    # Decode the current timestep\n",
    "    decoder_output, decoder_hidden = decoder(decoder_input, decoder_hidden)\n",
    "    \n",
    "    # Get the predicted token for the current timestep\n",
    "    topv, topi = decoder_output.topk(1)\n",
    "    predicted_token = topi.item()\n",
    "    \n",
    "    # Add the predicted token to the output sequence\n",
    "    output_seq.append(predicted_token)\n",
    "    #print(predicted_token,word_to_idx['<EOS>'])\n",
    "    \n",
    "    # If the predicted token is the EOS token, stop decoding\n",
    "    if predicted_token == word_to_idx['<EOS>']:#EOS_token:\n",
    "        break\n",
    "    \n",
    "    # Set the decoder input to the predicted token for the next timestep\n",
    "    decoder_input = torch.tensor([[predicted_token]], device=device)\n",
    "    \n",
    "# Convert the output sequence to a list\n",
    "output_seq = list(output_seq)\n",
    "\n",
    "# Print the output sequence\n",
    "#print(output_seq)\n",
    "\n",
    "out_seq_decoded=[idx_to_word.get(idx, word_to_idx['<UNK>']) for idx in output_seq]\n",
    "\n",
    "print(out_seq_decoded)"
   ]
  },
  {
   "cell_type": "code",
   "execution_count": null,
   "id": "1b64d437",
   "metadata": {},
   "outputs": [],
   "source": []
  },
  {
   "cell_type": "markdown",
   "id": "0053c649",
   "metadata": {},
   "source": [
    "# Gradient Decent"
   ]
  },
  {
   "cell_type": "code",
   "execution_count": 1,
   "id": "93aba533",
   "metadata": {},
   "outputs": [
    {
     "name": "stdout",
     "output_type": "stream",
     "text": [
      "Iteration 1: Cost 2357.2785054562255, Weight \t\t0.9249441700609777, Bias 0.3031073528723089\n",
      "Iteration 2: Cost 638.2807644057887, Weight \t\t1.159786222163162, Bias 0.30769094318293416\n",
      "Iteration 3: Cost 227.58453047716594, Weight \t\t1.2745748598231263, Bias 0.30992692485869333\n",
      "Iteration 4: Cost 129.46258808922533, Weight \t\t1.3306825357092669, Bias 0.3110154178873793\n",
      "Iteration 5: Cost 106.01967587920187, Weight \t\t1.3581075182232605, Bias 0.3115430294509235\n",
      "Iteration 6: Cost 100.41878618749463, Weight \t\t1.3715126743025154, Bias 0.31179648753435535\n",
      "Iteration 7: Cost 99.08064290245572, Weight \t\t1.3780650731906723, Bias 0.31191594203684303\n",
      "Iteration 8: Cost 98.7609383571383, Weight \t\t1.3812679098469713, Bias 0.311969896889856\n",
      "Iteration 9: Cost 98.68455522192394, Weight \t\t1.3828335124916729, Bias 0.31199183616048687\n",
      "Iteration 10: Cost 98.66630548866057, Weight \t\t1.3835988507961812, Bias 0.3119981265407635\n",
      "Iteration 11: Cost 98.66194476098012, Weight \t\t1.3839730275379674, Bias 0.3119967679133522\n",
      "Iteration 12: Cost 98.66090234032863, Weight \t\t1.3841560082453566, Bias 0.311991670544455\n",
      "Iteration 13: Cost 98.66065271665099, Weight \t\t1.3842455341577642, Bias 0.31198474573482554\n",
      "Iteration 14: Cost 98.66059250493828, Weight \t\t1.3842893802590213, Bias 0.31197692771000823\n",
      "Iteration 15: Cost 98.66057754679854, Weight \t\t1.3843108985046964, Bias 0.31196867311052173\n",
      "Iteration 16: Cost 98.66057340047114, Weight \t\t1.3843215031075249, Bias 0.31196020513788797\n",
      "Iteration 17: Cost 98.66057183726502, Weight \t\t1.3843267732256201, Bias 0.31195163289087785\n"
     ]
    },
    {
     "data": {
      "image/png": "[encoded data removed]",
      "text/plain": [
       "<Figure size 432x288 with 1 Axes>"
      ]
     },
     "metadata": {
      "needs_background": "light"
     },
     "output_type": "display_data"
    },
    {
     "data": {
      "image/png": "[encoded data removed]",
      "text/plain": [
       "<Figure size 576x432 with 1 Axes>"
      ]
     },
     "metadata": {
      "needs_background": "light"
     },
     "output_type": "display_data"
    },
    {
     "name": "stdout",
     "output_type": "stream",
     "text": [
      "Estimated Weight: 1.3843267732256201\n",
      "Estimated Bias: 0.31195163289087785\n"
     ]
    },
    {
     "data": {
      "image/png": "[encoded data removed]",
      "text/plain": [
       "<Figure size 576x432 with 1 Axes>"
      ]
     },
     "metadata": {
      "needs_background": "light"
     },
     "output_type": "display_data"
    }
   ],
   "source": [
    "# Importing Libraries\n",
    "import numpy as np\n",
    "import matplotlib.pyplot as plt\n",
    "\n",
    "def mean_squared_error(y_true, y_predicted):\n",
    "\t\n",
    "\t# Calculating the loss or cost\n",
    "\tcost = np.sum((y_true-y_predicted)**2) / len(y_true)\n",
    "\treturn cost\n",
    "\n",
    "# Gradient Descent Function\n",
    "# Here iterations, learning_rate, stopping_threshold\n",
    "# are hyperparameters that can be tuned\n",
    "def gradient_descent(x, y, iterations = 10, learning_rate = 0.0001,\n",
    "\t\t\t\t\tstopping_threshold = 1e-6):\n",
    "\t\n",
    "\t# Initializing weight, bias, learning rate and iterations\n",
    "\tcurrent_weight = np.random.random()#0.1\n",
    "\tcurrent_bias = np.random.random()#0.01\n",
    "\titerations = iterations\n",
    "\tlearning_rate = learning_rate\n",
    "\tn = float(len(x))\n",
    "\t\n",
    "\tcosts = []\n",
    "\tweights = []\n",
    "\tprevious_cost = None\n",
    "\t\n",
    "\t# Estimation of optimal parameters\n",
    "\tfor i in range(iterations):\n",
    "\t\t\n",
    "\t\t# Making predictions\n",
    "\t\ty_predicted = (current_weight * x) + current_bias\n",
    "\t\tplt.plot([min(x), max(x)], [min(y_predicted), max(y_predicted)], color='blue',markerfacecolor='red',\n",
    "        markersize=10,linestyle='dashed')\n",
    "\t\t\n",
    "\t\t# Calculating the current cost\n",
    "\t\tcurrent_cost = mean_squared_error(y, y_predicted)\n",
    "\n",
    "\t\t# If the change in cost is less than or equal to\n",
    "\t\t# stopping_threshold we stop the gradient descent\n",
    "\t\tif previous_cost and abs(previous_cost-current_cost)<=stopping_threshold:\n",
    "\t\t\tbreak\n",
    "\t\t\n",
    "\t\tprevious_cost = current_cost\n",
    "\n",
    "\t\tcosts.append(current_cost)\n",
    "\t\tweights.append(current_weight)\n",
    "\t\t\n",
    "\t\t# Calculating the gradients\n",
    "\t\tweight_derivative = -(2/n) * sum(x * (y-y_predicted))\n",
    "\t\tbias_derivative = -(2/n) * sum(y-y_predicted)\n",
    "\t\t\n",
    "\t\t# Updating weights and bias\n",
    "\t\tcurrent_weight = current_weight - (learning_rate * weight_derivative)\n",
    "\t\tcurrent_bias = current_bias - (learning_rate * bias_derivative)\n",
    "\t\t\t\t\n",
    "\t\t# Printing the parameters for each 1000th iteration\n",
    "\t\tprint(f\"Iteration {i+1}: Cost {current_cost}, Weight \\\n",
    "\t\t{current_weight}, Bias {current_bias}\")\n",
    "\t\n",
    "\t\n",
    "\t# Visualizing the weights and cost at for all iterations\n",
    "\tplt.figure(figsize = (8,6))\n",
    "\tplt.plot(weights, costs)\n",
    "\tplt.scatter(weights, costs, marker='o', color='red')\n",
    "\tplt.title(\"Cost vs Weights\")\n",
    "\tplt.ylabel(\"Cost\")\n",
    "\tplt.xlabel(\"Weight\")\n",
    "\tplt.show()\n",
    "\t\n",
    "\treturn current_weight, current_bias\n",
    "\n",
    "\n",
    "def main():\n",
    "\t\n",
    "\t# Data\n",
    "\tX = np.array([32.50234527, 53.42680403, 61.53035803, 47.47563963, 59.81320787,\n",
    "\t\t55.14218841, 52.21179669, 39.29956669, 48.10504169, 52.55001444,\n",
    "\t\t45.41973014, 54.35163488, 44.1640495 , 58.16847072, 56.72720806,\n",
    "\t\t48.95588857, 44.68719623, 60.29732685, 45.61864377, 38.81681754])\n",
    "\tY = np.array([31.70700585, 68.77759598, 62.5623823 , 71.54663223, 87.23092513,\n",
    "\t\t78.21151827, 79.64197305, 59.17148932, 75.3312423 , 71.30087989,\n",
    "\t\t55.16567715, 82.47884676, 62.00892325, 75.39287043, 81.43619216,\n",
    "\t\t60.72360244, 82.89250373, 97.37989686, 48.84715332, 56.87721319])\n",
    "\n",
    "\t# Estimating weight and bias using gradient descent\n",
    "\testimated_weight, estimated_bias = gradient_descent(X, Y, iterations=100)\n",
    "\tprint(f\"Estimated Weight: {estimated_weight}\\nEstimated Bias: {estimated_bias}\")\n",
    "\n",
    "\t# Making predictions using estimated parameters\n",
    "\tY_pred = estimated_weight*X + estimated_bias\n",
    "\n",
    "\t# Plotting the regression line\n",
    "\tplt.figure(figsize = (8,6))\n",
    "\tplt.scatter(X, Y, marker='o', color='red')\n",
    "\tplt.plot([min(X), max(X)], [min(Y_pred), max(Y_pred)], color='blue',markerfacecolor='red',\n",
    "\t\t\tmarkersize=10,linestyle='dashed')\n",
    "\tplt.xlabel(\"X\")\n",
    "\tplt.ylabel(\"Y\")\n",
    "\tplt.show()\n",
    "\n",
    "\t\n",
    "if __name__==\"__main__\":\n",
    "\tmain()\n"
   ]
  },
  {
   "cell_type": "code",
   "execution_count": 117,
   "id": "4119276f",
   "metadata": {},
   "outputs": [
    {
     "data": {
      "text/plain": [
       "0.6594516358241309"
      ]
     },
     "execution_count": 117,
     "metadata": {},
     "output_type": "execute_result"
    }
   ],
   "source": [
    "np.random.random()"
   ]
  },
  {
   "cell_type": "markdown",
   "id": "fea5e28e",
   "metadata": {},
   "source": [
    "## Sentence Embedding with BERT"
   ]
  },
  {
   "cell_type": "code",
   "execution_count": 18,
   "id": "bd5eb7da",
   "metadata": {},
   "outputs": [
    {
     "name": "stderr",
     "output_type": "stream",
     "text": [
      "Some weights of the model checkpoint at bert-base-uncased were not used when initializing BertModel: ['cls.predictions.transform.dense.weight', 'cls.seq_relationship.weight', 'cls.predictions.transform.LayerNorm.weight', 'cls.predictions.transform.dense.bias', 'cls.seq_relationship.bias', 'cls.predictions.bias', 'cls.predictions.transform.LayerNorm.bias', 'cls.predictions.decoder.weight']\n",
      "- This IS expected if you are initializing BertModel from the checkpoint of a model trained on another task or with another architecture (e.g. initializing a BertForSequenceClassification model from a BertForPreTraining model).\n",
      "- This IS NOT expected if you are initializing BertModel from the checkpoint of a model that you expect to be exactly identical (initializing a BertForSequenceClassification model from a BertForSequenceClassification model).\n"
     ]
    },
    {
     "data": {
      "image/png": "[encoded data removed]",
      "text/plain": [
       "<Figure size 432x288 with 1 Axes>"
      ]
     },
     "metadata": {
      "needs_background": "light"
     },
     "output_type": "display_data"
    }
   ],
   "source": [
    "import torch\n",
    "from transformers import BertTokenizer, BertModel\n",
    "from sklearn.decomposition import PCA\n",
    "import matplotlib.pyplot as plt\n",
    "\n",
    "# Load pre-trained BERT model and tokenizer\n",
    "tokenizer = BertTokenizer.from_pretrained('bert-base-uncased')\n",
    "model = BertModel.from_pretrained('bert-base-uncased')\n",
    "\n",
    "# Define a function to generate sentence embeddings\n",
    "def generate_sentence_embedding(sentence):\n",
    "    # Tokenize the input sentence and convert it to token IDs\n",
    "    input_ids = torch.tensor([tokenizer.encode(sentence, add_special_tokens=True)])\n",
    "    # Generate the BERT embeddings for the input sentence\n",
    "    with torch.no_grad():\n",
    "        outputs = model(input_ids)\n",
    "        last_hidden_states = outputs.last_hidden_state\n",
    "    # Average the last hidden states to obtain the sentence embedding\n",
    "    sentence_embedding = torch.mean(last_hidden_states, dim=1)\n",
    "    return sentence_embedding.numpy()\n",
    "\n",
    "# Define some sample sentences\n",
    "sentences = [\n",
    "    \"The quick brown fox jumps over the lazy dog.\",\n",
    "    \"I am going to the beach for surfing and fishing.\",\n",
    "    \"We went to occian to watch whales.\",\n",
    "    \"You can see sharks in this part of the sea.\",\n",
    "    \"Scorpions live in a very hot desert.\"\n",
    "]\n",
    "\n",
    "# Generate sentence embeddings for the sample sentences\n",
    "sentence_embeddings = [generate_sentence_embedding(sent) for sent in sentences]\n",
    "\n",
    "# Remove the batch dimension from the sentence embeddings\n",
    "sentence_embeddings = [embedding[0] for embedding in sentence_embeddings]\n",
    "\n",
    "\n",
    "# Perform PCA on the sentence embeddings to reduce their dimensionality to 2\n",
    "pca = PCA(n_components=2)\n",
    "reduced_embeddings = pca.fit_transform(sentence_embeddings)\n",
    "\n",
    "# Visualize the reduced embeddings in a 2D scatter plot\n",
    "plt.scatter(reduced_embeddings[:, 0], reduced_embeddings[:, 1])\n",
    "for i, sent in enumerate(sentences):\n",
    "    plt.annotate(sent, xy=(reduced_embeddings[i, 0], reduced_embeddings[i, 1]))\n",
    "plt.show()\n"
   ]
  },
  {
   "cell_type": "code",
   "execution_count": null,
   "id": "984f6c8a",
   "metadata": {},
   "outputs": [],
   "source": []
  }
 ],
 "metadata": {
  "kernelspec": {
   "display_name": "Python 3 (ipykernel)",
   "language": "python",
   "name": "python3"
  },
  "language_info": {
   "codemirror_mode": {
    "name": "ipython",
    "version": 3
   },
   "file_extension": ".py",
   "mimetype": "text/x-python",
   "name": "python",
   "nbconvert_exporter": "python",
   "pygments_lexer": "ipython3",
   "version": "3.9.12"
  }
 },
 "nbformat": 4,
 "nbformat_minor": 5
}
